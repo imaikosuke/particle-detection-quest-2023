{
 "cells": [
  {
   "cell_type": "markdown",
   "id": "a3095fde",
   "metadata": {
    "editable": true,
    "slideshow": {
     "slide_type": ""
    },
    "tags": []
   },
   "source": [
    "# 評価方法\n",
    "\n",
    "分類されていないデータを認識し、どれだけ正しくカテゴリごとに分類できるかを算出した「平均精度」の高さを競い合います。\n",
    "\n",
    "今回、活用するデータはLSWMD_25519となります。\n",
    "LSWMD_25519のFailureType項目が分類されていない状態のデータに対し、正しいFailureTypeカテゴリを分類するプログラムを作成し、その平均精度を算出します。\n",
    "平均精度とは、カテゴリごとに正しく分類できる精度を平均した値です。カテゴリごとに算出した精度（Aが正しく分類された数/Aのデータ数）を足し、カテゴリ数で割ります。\n",
    "\n",
    "公平な評価を実施するために、以下の制限を設けています。\n",
    "1. 外部パッケージをインストールするためのセルとsolution関数の中身のみを編集すること\n",
    "2. 校舎のiMac上で最後のセルの実行時間が15分未満であること　（%%timeitの出力結果を確認してください）\n",
    "\n",
    "※気になる点がある場合、Discordで気軽にお問合せください。"
   ]
  },
  {
   "cell_type": "code",
   "execution_count": 52,
   "id": "c8b0f68e",
   "metadata": {
    "deletable": false,
    "editable": false,
    "slideshow": {
     "slide_type": ""
    },
    "tags": []
   },
   "outputs": [],
   "source": [
    "import numpy as np\n",
    "import pandas as pd\n",
    "from sklearn.model_selection import train_test_split"
   ]
  },
  {
   "cell_type": "markdown",
   "id": "3ea86471-32fa-46c6-a005-ad6e1f7b7f72",
   "metadata": {
    "editable": true,
    "slideshow": {
     "slide_type": ""
    },
    "tags": []
   },
   "source": [
    "外部パッケージを使用する場合、以下の方法でインストールを実施してください。"
   ]
  },
  {
   "cell_type": "code",
   "execution_count": 53,
   "id": "6be8d1cd-7df7-4b10-aa1a-e24677b50d78",
   "metadata": {
    "editable": true,
    "slideshow": {
     "slide_type": ""
    },
    "tags": []
   },
   "outputs": [],
   "source": [
    "# 必要な外部パッケージは、以下の内容を編集しインストールしてください\n",
    "# !pip install keras\n",
    "# !pip install tensorflow\n",
    "# !pip install opencv-python\n",
    "import timeit\n",
    "import tensorflow as tf\n",
    "from keras import models\n",
    "from keras import layers\n",
    "from scipy.ndimage import zoom\n",
    "from tensorflow.keras.preprocessing.image import img_to_array, array_to_img\n",
    "from PIL import Image\n",
    "import matplotlib.pyplot as plt\n",
    "import seaborn as sns\n",
    "from sklearn.metrics import confusion_matrix"
   ]
  },
  {
   "cell_type": "code",
   "execution_count": 54,
   "id": "031392b9-e233-4539-8565-b403bdbcc49a",
   "metadata": {},
   "outputs": [],
   "source": [
    "# データの水増しをする関数\n",
    "def augment_data(images, y_labels):\n",
    "    augmented_images = []\n",
    "    augmented_labels = []\n",
    "\n",
    "    for img, label in zip(images, y_labels):\n",
    "        # 元の画像\n",
    "        augmented_images.append(img)\n",
    "        augmented_labels.append(label)\n",
    "\n",
    "        # 垂直方向の反転\n",
    "        img_v_flip = np.flipud(img)\n",
    "        augmented_images.append(img_v_flip)\n",
    "        augmented_labels.append(label)\n",
    "\n",
    "        # 水平方向の反転\n",
    "        img_h_flip = np.fliplr(img)\n",
    "        augmented_images.append(img_h_flip)\n",
    "        augmented_labels.append(label)\n",
    "\n",
    "        # 90度、180度、270度回転\n",
    "        for angle in [90, 180, 270]:\n",
    "            img_rotated = np.rot90(img, k=angle // 90)\n",
    "            augmented_images.append(img_rotated)\n",
    "            augmented_labels.append(label)\n",
    "\n",
    "    return np.array(augmented_images), np.array(augmented_labels)"
   ]
  },
  {
   "cell_type": "code",
   "execution_count": 55,
   "id": "7ae9bae3-b4ec-4bd8-829b-4d8333b4a15e",
   "metadata": {},
   "outputs": [],
   "source": [
    "# 画像のサイズを整える関数\n",
    "def resize_array(image_array, target_shape=(48, 48)):\n",
    "    # Numpy配列からPillowのImageオブジェクトに変換\n",
    "    image = Image.fromarray(image_array)\n",
    "    # 画像を32x32ピクセルにリサイズ\n",
    "    resized_image = image.resize(target_shape)\n",
    "    # リサイズした画像をNumpy配列に戻す\n",
    "    resized_image_array = np.array(resized_image)\n",
    "\n",
    "    return resized_image_array"
   ]
  },
  {
   "cell_type": "code",
   "execution_count": 56,
   "id": "a734675d-3f97-4ec3-829d-19ff8bbaa248",
   "metadata": {},
   "outputs": [],
   "source": [
    "# ゲインフィルタのための関数\n",
    "def apply_custom_filter(image_array, mask):\n",
    "    # マスクに基づいて条件を満たすピクセル値を変更\n",
    "    filtered_image_array = np.where(np.logical_and(mask, image_array == 2), 3, image_array)\n",
    "\n",
    "    return filtered_image_array\n",
    "\n",
    "def process_images(images, mask):\n",
    "    # 各画像に対してフィルタを適用\n",
    "    processed_images = [apply_custom_filter(image, mask) for image in images]\n",
    "\n",
    "    return processed_images\n",
    "\n",
    "def create_shifted_circular_mask(h, w, shift=(-1, -1), radius=None, edge_width=3):\n",
    "    center = (int(w/2) + shift[0], int(h/2) + shift[1])\n",
    "    # 半径が指定されていない場合、最大サイズを使用\n",
    "    if radius is None:\n",
    "        radius = min(center[0], center[1], w-center[0], h-center[1]) + 1\n",
    "\n",
    "    Y, X = np.ogrid[:h, :w]\n",
    "    dist_from_center = np.sqrt((X - center[0])**2 + (Y-center[1])**2)\n",
    "\n",
    "    # 円の外側と内側の境界を作成\n",
    "    outer_mask = dist_from_center <= radius\n",
    "    inner_mask = dist_from_center <= (radius - edge_width)\n",
    "\n",
    "    # 円のエッジ部分のみを取得\n",
    "    edge_mask = np.logical_and(outer_mask, np.logical_not(inner_mask))\n",
    "    return edge_mask\n"
   ]
  },
  {
   "cell_type": "code",
   "execution_count": 57,
   "id": "07ebf884-3109-4a2c-bedd-b0e798e35f84",
   "metadata": {},
   "outputs": [],
   "source": [
    "# Near-fullのためのフィルタ\n",
    "def replace_values_in_images(images, target_value, replacement_value, threshold_ratio):\n",
    "    processed_images = []\n",
    "\n",
    "    for image in images:\n",
    "        # 特定値のピクセル数をカウント\n",
    "        target_pixel_count = np.sum(image == target_value)\n",
    "\n",
    "        # 画像全体のピクセル数\n",
    "        total_pixel_count = image.size\n",
    "\n",
    "        # 存在比の計算\n",
    "        ratio = target_pixel_count / total_pixel_count\n",
    "\n",
    "        # 閾値以上であれば置き換え\n",
    "        if ratio >= threshold_ratio:\n",
    "            image[image == target_value] = replacement_value\n",
    "\n",
    "        processed_images.append(image)\n",
    "\n",
    "    return processed_images"
   ]
  },
  {
   "cell_type": "code",
   "execution_count": 58,
   "id": "cda6ad7e-8e26-4208-bdbd-3fa37e79c82c",
   "metadata": {
    "editable": true,
    "slideshow": {
     "slide_type": ""
    },
    "tags": []
   },
   "outputs": [],
   "source": [
    "def solution(x_test_df, train_df):\n",
    "    # モデルのfailureTypeをIntに置き換える\n",
    "    labels2 = ['Center','Donut','Edge-Loc','Edge-Ring','Loc','Random','Scratch','Near-full']\n",
    "    for i in range(len(labels2)):\n",
    "        train_df.loc[train_df[\"failureType\"]==labels2[i], \"num\"] = i\n",
    "\n",
    "    \n",
    "    print(\"===preprocessing start===\")\n",
    "\n",
    "    # 画像のサイズを全て揃える\n",
    "    # 32x32になっているが、サイズは上のセルのresize_arrayから変更できる　今xは(要素数,32,32)の3次元Numpy配列になっている\n",
    "    img = train_df[\"waferMap\"]\n",
    "    resized_arrays = [resize_array(arr) for arr in img]\n",
    "    final_array = np.array(resized_arrays)\n",
    "\n",
    "    # 画像にフィルタをかける\n",
    "    # Near-fullフィルタ\n",
    "    nearfull_threshold = 0.525\n",
    "    nearfull_changedvalue = 255\n",
    "    nearfull_filtered_images = replace_values_in_images(final_array, 2, nearfull_changedvalue, nearfull_threshold)\n",
    "\n",
    "    # Edgeフィルタ\n",
    "    # 円形マスクを作成\n",
    "    circular_gain_mask = create_shifted_circular_mask(48, 48)\n",
    "    # フィルタを再度適用\n",
    "    filtered_images = process_images(nearfull_filtered_images, circular_gain_mask)\n",
    "\n",
    "    # モデル訓練用データの答え（y）だけ取り出す\n",
    "    y_train_df = train_df[\"num\"]\n",
    "\n",
    "    # モデル訓練用データを水増しする（画像を回したり反転させたりする。結果は変わらないので・・・）\n",
    "    augmented_train_images, augmented_y_train = augment_data(filtered_images, y_train_df.values)\n",
    "\n",
    "\t# One-hotエンコーディング(推測したいfailureTypeが0-7の値になっているのを、7列のTrue or Falseに書き換える)\n",
    "    ydf = pd.get_dummies(augmented_y_train)\n",
    "\n",
    "    print(\"===preprocessing end===\")\n",
    "    \n",
    "    # レイヤーを設定し学習\n",
    "    model=models.Sequential()\n",
    "\n",
    "    model.add(layers.Conv2D(16,(3,3), input_shape=(48,48,1), activation='relu'))\n",
    "    model.add(layers.Conv2D(32,(3,3), activation='relu'))\n",
    "    model.add(layers.MaxPooling2D(pool_size=(2,2)))\n",
    "    model.add(layers.Conv2D(64,(3,3), activation='relu'))\n",
    "    model.add(layers.MaxPooling2D(pool_size=(2,2)))   \n",
    "    \n",
    "    model.add(layers.Flatten())\n",
    "\n",
    "    model.add(layers.Dense(32, activation='gelu'))\n",
    "    model.add(layers.Dense(32, activation='gelu'))\n",
    "    #model.add(layers.Dropout(0.5))\n",
    "    model.add(layers.Dense(32, activation='gelu'))\n",
    "    model.add(layers.Dense(32, activation='gelu'))\n",
    "    model.add(layers.Dense(16, activation='gelu'))\n",
    "    model.add(layers.Dense(16, activation='gelu'))\n",
    "    model.add(layers.Dense(16, activation='gelu'))\n",
    "    model.add(layers.Dense(16, activation='gelu'))\n",
    "    model.add(layers.Dense(8, activation='softmax'))\n",
    "    \n",
    "    model.compile(optimizer=\"adam\", loss=\"categorical_crossentropy\", metrics=[\"accuracy\"])\n",
    "    \n",
    "    results = model.fit(augmented_train_images,\n",
    "                      ydf,\n",
    "                      epochs=5,\n",
    "                      batch_size=60,\n",
    "                      verbose=1,\n",
    "                      validation_split=0.0)\n",
    "    print(\"学習終了\")\n",
    "\n",
    "    # 試験用データ(x)の画像のサイズを学習データと揃える\n",
    "    aimg = x_test_df[\"waferMap\"]\n",
    "    aresized_arrays = [resize_array(arr) for arr in aimg]\n",
    "    anearfull_arrays = replace_values_in_images(aresized_arrays, 2, nearfull_changedvalue, nearfull_threshold)\n",
    "    afiltered_arrays = process_images(anearfull_arrays, circular_gain_mask)\n",
    "    afinal_array = np.array(afiltered_arrays)\n",
    "    \n",
    "    # 試験用データに回答する\n",
    "    predictions = model.predict(afinal_array)\n",
    "\n",
    "    # 出力された回答データ(y)はIntなので、failureTypeに直してReturnする\n",
    "    res = np.zeros(predictions.shape[0], dtype=object)\n",
    "    for i in range(predictions.shape[0]):\n",
    "        res[i] = labels2[np.argmax(predictions[i])]\n",
    "\n",
    "    return pd.DataFrame(res, index=x_test_df.index, columns=['failureType'])\n"
   ]
  },
  {
   "cell_type": "markdown",
   "id": "c70c20f4-f775-4d9d-90c7-a3b583584edd",
   "metadata": {
    "editable": true,
    "slideshow": {
     "slide_type": ""
    },
    "tags": []
   },
   "source": [
    "solution関数は以下のように活用され、平均精度を計算します。"
   ]
  },
  {
   "cell_type": "code",
   "execution_count": 59,
   "id": "04a31dda-7c8b-477e-9547-5c9db739f7f0",
   "metadata": {
    "deletable": false,
    "slideshow": {
     "slide_type": ""
    },
    "tags": []
   },
   "outputs": [
    {
     "name": "stdout",
     "output_type": "stream",
     "text": [
      "===preprocessing start===\n",
      "===preprocessing end===\n",
      "Epoch 1/5\n",
      "2297/2297 [==============================] - 86s 37ms/step - loss: 0.6509 - accuracy: 0.7634\n",
      "Epoch 2/5\n",
      "2297/2297 [==============================] - 90s 39ms/step - loss: 0.3373 - accuracy: 0.8752\n",
      "Epoch 3/5\n",
      "2297/2297 [==============================] - 112s 49ms/step - loss: 0.2641 - accuracy: 0.9035\n",
      "Epoch 4/5\n",
      "2297/2297 [==============================] - 110s 48ms/step - loss: 0.2036 - accuracy: 0.9265\n",
      "Epoch 5/5\n",
      "2297/2297 [==============================] - 110s 48ms/step - loss: 0.1710 - accuracy: 0.9388\n",
      "学習終了\n",
      "80/80 [==============================] - 1s 8ms/step\n",
      "平均精度：87.21%\n",
      "8min 31s ± 0 ns per loop (mean ± std. dev. of 1 run, 1 loop each)\n"
     ]
    }
   ],
   "source": [
    "%%timeit -r 1 -n 1\n",
    "\n",
    "# データのインポート\n",
    "df=pd.read_pickle(\"../input/LSWMD_25519.pkl\")\n",
    "\n",
    "# テスト用と学習用のデータを作成（テストする際は、random_stateの値などを編集してみてください）\n",
    "train_df, test_df = train_test_split(df, stratify=df['failureType'], test_size=0.10, random_state=2500)\n",
    "\n",
    "y_test_df = test_df[['failureType']]\n",
    "x_test_df = test_df.drop(columns=['failureType'])\n",
    "\n",
    "# solution関数を実行\n",
    "user_result_df = solution(x_test_df, train_df)\n",
    "\n",
    "average_accuracy = 0\n",
    "# ユーザーの提出物のフォーマット確認\n",
    "if type(y_test_df) == type(user_result_df) and y_test_df.shape == user_result_df.shape:\n",
    "    # 平均精度の計算\n",
    "    accuracies = {}\n",
    "    for failure_type in df['failureType'].unique():\n",
    "        y_test_df_by_failure_type = y_test_df[y_test_df['failureType'] == failure_type]\n",
    "        user_result_df_by_failure_type = user_result_df[y_test_df['failureType'] == failure_type]\n",
    "        matching_rows = (y_test_df_by_failure_type == user_result_df_by_failure_type).all(axis=1).sum()\n",
    "        accuracies[failure_type] = (matching_rows/(len(y_test_df_by_failure_type)))\n",
    "    \n",
    "    average_accuracy = sum(accuracies.values())/len(accuracies)\n",
    "\n",
    "# #追加コード\n",
    "# # テストデータとユーザーの提出物からランダムにサンプルを選択\n",
    "# sample_size = 200\n",
    "\n",
    "# # ['Center','Donut','Edge-Loc','Edge-Ring','Loc','Random','Scratch','Near-full'] から最低でも1つは選択する\n",
    "# # クラスと対応する確率を設定\n",
    "# selected_classes = ['Center', 'Donut', 'Edge-Loc', 'Edge-Ring', 'Loc', 'Random', 'Scratch', 'Near-full']\n",
    "# # probabilities = [0.1 if class_name != 'Near-full' else 0.9 for class_name in selected_classes]\n",
    "# probabilities = [0.1 if class_name != 'Near-full' else 0.9 for class_name in y_test_df['failureType']]\n",
    "\n",
    "# # 確率の合計が1になるように正規化\n",
    "# probabilities /= np.sum(probabilities)\n",
    "# random_indices = np.random.choice(len(y_test_df), sample_size, replace=False, p=probabilities)\n",
    "\n",
    "# # 実際のクラスと予測クラスを取得\n",
    "# actual_classes = y_test_df.iloc[random_indices]['failureType'].values\n",
    "# predicted_classes = user_result_df.iloc[random_indices]['failureType'].values\n",
    "# # print(\"実際のクラス:\", actual_classes)\n",
    "# # print(\"予測クラス:\", predicted_classes)\n",
    "# # 混同行列を作成\n",
    "# matrix = confusion_matrix(actual_classes, predicted_classes)\n",
    "# labels3 = ['Center','Donut','Edge-Loc','Edge-Ring','Loc','Random','Scratch','Near-full']\n",
    "# dataframe = pd.DataFrame(matrix, index=labels3, columns=labels3)\n",
    "# #ヒートマップを作成\n",
    "# sns.heatmap(dataframe, annot=True, cbar=None, cmap=\"Blues\")\n",
    "# plt.title(\"Confusion Matrix\"), plt.tight_layout()\n",
    "# plt.ylabel(\"True Class\"), plt.xlabel(\"Predicted Class\")\n",
    "# plt.show()\n",
    "# # コードはここで終わり\n",
    "\n",
    "print(f\"平均精度：{average_accuracy*100:.2f}%\")"
   ]
  }
 ],
 "metadata": {
  "kernelspec": {
   "display_name": "Python 3 (ipykernel)",
   "language": "python",
   "name": "python3"
  },
  "language_info": {
   "codemirror_mode": {
    "name": "ipython",
    "version": 3
   },
   "file_extension": ".py",
   "mimetype": "text/x-python",
   "name": "python",
   "nbconvert_exporter": "python",
   "pygments_lexer": "ipython3",
   "version": "3.11.6"
  }
 },
 "nbformat": 4,
 "nbformat_minor": 5
}
